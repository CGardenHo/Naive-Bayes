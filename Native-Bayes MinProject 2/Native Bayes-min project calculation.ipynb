{
 "cells": [
  {
   "cell_type": "markdown",
   "metadata": {},
   "source": [
    "![title](img/b1.png)"
   ]
  },
  {
   "cell_type": "code",
   "execution_count": null,
   "metadata": {
    "collapsed": true
   },
   "outputs": [],
   "source": [
    "sample_memo = '''\n",
    "Milt, we're gonna need to go ahead and move you downstairs into storage B. We have some new people coming in, and we need all the space we can get. So if you could just go ahead and pack up your stuff and move it down there, that would be terrific, OK?\n",
    "Oh, and remember: next Friday... is Hawaiian shirt day. So, you know, if you want to, go ahead and wear a Hawaiian shirt and jeans.\n",
    "Oh, oh, and I almost forgot. Ahh, I'm also gonna need you to go ahead and come in on Sunday, too...\n",
    "Hello Peter, whats happening? Ummm, I'm gonna need you to go ahead and come in tomorrow. So if you could be here around 9 that would be great, mmmk... oh oh! and I almost forgot ahh, I'm also gonna need you to go ahead and come in on Sunday too, kay. We ahh lost some people this week and ah, we sorta need to play catch up.\n",
    "'''\n",
    "\n",
    "#\n",
    "#   Maximum Likelihood Hypothesis\n",
    "#\n",
    "#\n",
    "#   In this quiz we will find the maximum likelihood word based on the preceding word\n",
    "#\n",
    "#   Fill in the NextWordProbability procedure so that it takes in sample text and a word,\n",
    "#   and returns a dictionary with keys the set of words that come after, whose values are\n",
    "#   the number of times the key comes after that word.\n",
    "#   \n",
    "#   Just use .split() to split the sample_memo text into words separated by spaces.\n",
    "\n",
    "def NextWordProbability(sampletext,word):\n",
    "    words = sampletext.split(' ')\n",
    "    res = {}\n",
    "    for index, item in enumerate(words):\n",
    "        if item == word:\n",
    "            print res.keys()\n",
    "            if words[index+1] in res.keys():\n",
    "                res[words[index+1]]+=1\n",
    "            else:\n",
    "                res[words[index+1]]=1\n",
    "    return res\n",
    "    \n",
    "def wei(sample, newdic1):\n",
    "    dict={};\n",
    "    for key1 in newdic1:\n",
    "        newdic2 = NextWordProbability(sameple, key1)\n",
    "        for key2 in newdic2:\n",
    "            dict[key2] = newdic2[key2]*newdic1[key1]\n",
    "    return dict"
   ]
  },
  {
   "cell_type": "code",
   "execution_count": 12,
   "metadata": {},
   "outputs": [
    {
     "name": "stdout",
     "output_type": "stream",
     "text": [
      "[]\n",
      "['need']\n",
      "['need']\n",
      "['need']\n",
      "{'need': 4}\n"
     ]
    }
   ],
   "source": [
    "print NextWordProbability(sample_memo,'gonna')"
   ]
  },
  {
   "cell_type": "code",
   "execution_count": 13,
   "metadata": {},
   "outputs": [
    {
     "name": "stdout",
     "output_type": "stream",
     "text": [
      "[]\n",
      "['and']\n",
      "['and']\n",
      "['and']\n",
      "['and']\n",
      "['and']\n",
      "{'and': 6}\n"
     ]
    }
   ],
   "source": [
    "print NextWordProbability(sample_memo,'ahead')"
   ]
  },
  {
   "cell_type": "code",
   "execution_count": 9,
   "metadata": {},
   "outputs": [
    {
     "name": "stdout",
     "output_type": "stream",
     "text": [
      "{'be': 1, 'just': 1}\n"
     ]
    }
   ],
   "source": [
    "print NextWordProbability(sample_memo,'could')"
   ]
  },
  {
   "cell_type": "code",
   "execution_count": 10,
   "metadata": {},
   "outputs": [
    {
     "name": "stdout",
     "output_type": "stream",
     "text": [
      "{'terrific,': 1, 'here': 1, 'great,': 1}\n"
     ]
    }
   ],
   "source": [
    "print NextWordProbability(sample_memo,'be')"
   ]
  },
  {
   "cell_type": "code",
   "execution_count": 46,
   "metadata": {},
   "outputs": [
    {
     "name": "stdout",
     "output_type": "stream",
     "text": [
      "{'ahead': 6}\n"
     ]
    }
   ],
   "source": [
    "print NextWordProbability(sample_memo,'go')"
   ]
  },
  {
   "cell_type": "markdown",
   "metadata": {},
   "source": [
    "![title](img/b2.png)"
   ]
  },
  {
   "cell_type": "markdown",
   "metadata": {},
   "source": [
    "Prior probability:\n",
    "\n",
    "P(this) = 0.4\n",
    "P(that) = 0.3\n",
    "P(those) = 0.3\n",
    "\n",
    "P(time|this) = 0.6\n",
    "P(job|this) = 0.4\n",
    "P(time|that) = 0.2\n",
    "P(job|that) = 0.8\n",
    "P(items|those) = 1\n",
    "\n",
    "Step1. Compute Joint Probability:\n",
    "\n",
    "P(time, this) = P(this) * P(time|this) = 0.4 x 0.6 = 0.24\n",
    "P(job, this) = P(this) * P(job|this) = 0.4 x 0.4 = 0.16\n",
    "P(time, that) = P(that) * P(time|that) = 0.3 x 0.2 = 0.06\n",
    "P(job, that) = P(that) * P(job|that) = 0.3 x 0.3 = 0.24\n",
    "P(items, those) = P(those) * P(items|those) = 0.3 x 1 = 0.3\n",
    "\n",
    "\n",
    "Step2.  Compute Total Probability:\n",
    "\n",
    "P'(time) = P(time,this) + P(time,that) = 0.24 + 0.06 = 0.3\n",
    "P'(job) = P(job,this) + P(job,that) = 0.16 + 0.24 = 0.4\n",
    "P'(items) = P(items,those) = 0.3\n",
    "\n",
    "Step3.  Normalization:\n",
    "\n",
    "P(total) = P'(time) + P'(job) + P'(items) = 0.3 + 0.4 + 0.3 = 1\n",
    "P(time) = P'(time)/P(total) = 0.3\n",
    "P(job) = P'(job)/P(total) = 0.4\n",
    "P(items) = P'(items)/P(total) = 0.3\n",
    "\n",
    "\n",
    "Step4. Conclusion:\n",
    "\n",
    "MAP = max(P(time), P(job), P(items))=0.4\n",
    "The second blank word is job with 0.4 probability."
   ]
  },
  {
   "cell_type": "code",
   "execution_count": 47,
   "metadata": {},
   "outputs": [
    {
     "name": "stdout",
     "output_type": "stream",
     "text": [
      "36\n",
      "and\n",
      "and\n"
     ]
    }
   ],
   "source": [
    "#------------------------------------------------------------------\n",
    "#\n",
    "#   Bayes Optimal Classifier\n",
    "#\n",
    "#   In this quiz we will compute the optimal label for a second missing word in a row\n",
    "#   based on the possible words that could be in the first blank\n",
    "#\n",
    "#   Finish the procedurce, LaterWords(), below\n",
    "#\n",
    "#   You may want to import your code from the previous programming exercise!\n",
    "#\n",
    "\n",
    "sample_memo = '''\n",
    "Milt, we're gonna need to go ahead and move you downstairs into storage B. We have some new people coming in, and we need all the space we can get. So if you could just go ahead and pack up your stuff and move it down there, that would be terrific, OK?\n",
    "Oh, and remember: next Friday... is Hawaiian shirt day. So, you know, if you want to, go ahead and wear a Hawaiian shirt and jeans.\n",
    "Oh, oh, and I almost forgot. Ahh, I'm also gonna need you to go ahead and come in on Sunday, too...\n",
    "Hello Peter, whats happening? Ummm, I'm gonna need you to go ahead and come in tomorrow. So if you could be here around 9 that would be great, mmmk... oh oh! and I almost forgot ahh, I'm also gonna need you to go ahead and come in on Sunday too, kay. We ahh lost some people this week and ah, we sorta need to play catch up.\n",
    "'''\n",
    "\n",
    "corrupted_memo = '''\n",
    "Yeah, I'm gonna --- you to go ahead --- --- complain about this. Oh, and if you could --- --- and sit at the kids' table, that'd be --- \n",
    "'''\n",
    "\n",
    "data_list = sample_memo.strip().split()\n",
    "\n",
    "words_to_guess = [\"ahead\",\"could\"]\n",
    "def NextWordProbability(sampletext,word):\n",
    "    words = sampletext.split(' ')\n",
    "    res = {}\n",
    "    for index, item in enumerate(words):\n",
    "        if item == word:\n",
    "            if words[index+1] in res.keys():\n",
    "                res[words[index+1]]+=1\n",
    "            else:\n",
    "                res[words[index+1]]=1\n",
    "    return res\n",
    "    \n",
    "def weight(sample, newdic1):\n",
    "    dict={};\n",
    "    for key1 in newdic1:\n",
    "        #print key1\n",
    "        newdic2 = NextWordProbability(sample, key1)\n",
    "        #print newdic2\n",
    "        for key2 in newdic2:\n",
    "            dict[key2] = newdic2[key2]*newdic1[key1]\n",
    "            print dict[key2]\n",
    "        \n",
    "           #print newdic2[key2]\n",
    "            print key2\n",
    "            #print newdic1[key1]\n",
    "            #print key1\n",
    "    return dict\n",
    "\n",
    "\n",
    "def LaterWords(sample,word,distance):\n",
    "    '''@param sample: a sample of text to draw from\n",
    "    @param word: a word occuring before a corrupted sequence\n",
    "    @param distance: how many words later to estimate (i.e. 1 for the next word, 2 for the word after that)\n",
    "    @returns: a single word which is the most likely possibility\n",
    "    '''\n",
    "    \n",
    "    # TODO: Given a word, collect the relative probabilities of possible following words\n",
    "    # from @sample. You may want to import your code from the maximum likelihood exercise.\n",
    "    \n",
    "    # TODO: Repeat the above process--for each distance beyond 1, evaluate the words that\n",
    "    # might come after each word, and combine them weighting by relative probability\n",
    "    # into an estimate of what might appear next.\n",
    "    \n",
    "    newdic1 = NextWordProbability(sample,word)\n",
    "    for i in range(distance-1):\n",
    "        newdic1 = weight(sample, newdic1)\n",
    "        ret = max(newdic1, key = newdic1.get)\n",
    "        return ret\n",
    "   # return {}\n",
    "    \n",
    "print LaterWords(sample_memo,\"go\",2)\n",
    "#print LaterWords(sample_memo,words_to_guess,2)"
   ]
  },
  {
   "cell_type": "code",
   "execution_count": null,
   "metadata": {
    "collapsed": true
   },
   "outputs": [],
   "source": []
  },
  {
   "cell_type": "markdown",
   "metadata": {
    "collapsed": true
   },
   "source": []
  }
 ],
 "metadata": {
  "kernelspec": {
   "display_name": "Python 2",
   "language": "python",
   "name": "python2"
  },
  "language_info": {
   "codemirror_mode": {
    "name": "ipython",
    "version": 2
   },
   "file_extension": ".py",
   "mimetype": "text/x-python",
   "name": "python",
   "nbconvert_exporter": "python",
   "pygments_lexer": "ipython2",
   "version": "2.7.13"
  }
 },
 "nbformat": 4,
 "nbformat_minor": 2
}
